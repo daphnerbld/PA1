{
 "cells": [
  {
   "cell_type": "markdown",
   "id": "3ac92006-bd66-4b88-88f9-0f6680710a96",
   "metadata": {},
   "source": [
    "**Name:** [Robleado, Daphne P.]\n",
    "**Section:** [2ECE-A]\n",
    "**Date Submitted:** [08-25-2024]"
   ]
  },
  {
   "cell_type": "markdown",
   "id": "f8a56b10-ae9a-410d-a68f-f2c9fcfb325a",
   "metadata": {},
   "source": [
    "**EXPERIMENT 1: \n",
    "INTRODUCTION TO PYTHON PROGRAMMIN**G\n"
   ]
  },
  {
   "cell_type": "markdown",
   "id": "e0717921",
   "metadata": {},
   "source": [
    "* ALPHABET SOUP PROBLEM: Create a function that takes a string and returns a string with its letters\n",
    "in alphabetical order."
   ]
  },
  {
   "cell_type": "code",
   "execution_count": null,
   "id": "be954e5e-cebc-4dc4-b5cc-aecb9c09ae9d",
   "metadata": {},
   "outputs": [],
   "source": [
    "def alphabet_soup(x):\n",
    "    sorted(x)\n",
    "    string=''.join(sorted(x))\n",
    "    print(string)\n",
    "\n",
    "y = input(\"Enter the word you want to re-arrange in alphabetical order:\")\n",
    "alphabet_soup(y)"
   ]
  },
  {
   "cell_type": "markdown",
   "id": "6c1936fc-2c82-437a-818c-b5cf3ed249d0",
   "metadata": {},
   "source": [
    "* EMOTICON PROBLEM: Create a function that changes specific words into emoticons. Given a sentence\n",
    "as a string, replace the words smile, grin, sad and mad with their corresponding emoticon"
   ]
  },
  {
   "cell_type": "markdown",
   "id": "54b2626b-6894-4330-afbb-58d9fa418cc8",
   "metadata": {},
   "source": [
    "\n"
   ]
  },
  {
   "cell_type": "code",
   "execution_count": 7,
   "id": "51883d02-68cf-4828-93cb-8ab2b2c730b3",
   "metadata": {},
   "outputs": [
    {
     "name": "stdin",
     "output_type": "stream",
     "text": [
      "Enter a sentence:  sad\n"
     ]
    },
    {
     "name": "stdout",
     "output_type": "stream",
     "text": [
      ":((\n"
     ]
    }
   ],
   "source": [
    "def emoticons(sentence):\n",
    "    emoticon_dict = {\n",
    "        \"smile\": \":)\",\n",
    "        \"grin\": \":D\",\n",
    "        \"sad\": \":((\",\n",
    "        \"mad\": \">:(\"\n",
    "    }\n",
    "\n",
    "    for word, emoticon in emoticon_dict.items():\n",
    "        sentence = sentence.replace(word, emoticon)\n",
    "\n",
    "    return sentence\n",
    "\n",
    "sentence = input(\"Enter a sentence: \")\n",
    "print(emoticons(sentence))\n"
   ]
  },
  {
   "cell_type": "markdown",
   "id": "7c824e64-cdb7-4432-8dc7-0e60b1e08e27",
   "metadata": {},
   "source": [
    "* UNPACKING LIST PROBLEM: Unpack the list writeyourcodehere into three variables, being first, \n",
    "middle, and last, with middle being everything in betwee  the first and last element. Then print all three variables.es"
   ]
  },
  {
   "cell_type": "code",
   "execution_count": null,
   "id": "2220510b-c2b3-482f-9142-de4370ff282d",
   "metadata": {},
   "outputs": [],
   "source": [
    "userInput = input(\"Enter a list of numbers: \")\n",
    "\n",
    "list = list(map(int, userInput.split()))\n",
    "\n",
    "first, *middle, last = list\n",
    "\n",
    "print(\"first:\", first)\n",
    "print(\"middle:\", middle)\n",
    "print(\"last:\", last)\n"
   ]
  }
 ],
 "metadata": {
  "kernelspec": {
   "display_name": "Python 3 (ipykernel)",
   "language": "python",
   "name": "python3"
  },
  "language_info": {
   "codemirror_mode": {
    "name": "ipython",
    "version": 3
   },
   "file_extension": ".py",
   "mimetype": "text/x-python",
   "name": "python",
   "nbconvert_exporter": "python",
   "pygments_lexer": "ipython3",
   "version": "3.11.4"
  }
 },
 "nbformat": 4,
 "nbformat_minor": 5
}
